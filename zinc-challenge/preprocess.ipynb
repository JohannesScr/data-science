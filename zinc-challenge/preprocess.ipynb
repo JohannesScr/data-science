{
 "cells": [
  {
   "cell_type": "markdown",
   "metadata": {
    "collapsed": true,
    "pycharm": {
     "name": "#%% md\n"
    }
   },
   "source": [
    "# Preprocessing\n",
    "\n",
    "Attempt at reading the data and just preprocessing and understanding the data."
   ]
  },
  {
   "cell_type": "code",
   "execution_count": 125,
   "outputs": [],
   "source": [
    "# All imports\n",
    "import random\n",
    "import numpy as np\n",
    "import pandas as pd\n",
    "import matplotlib.pyplot as plt\n",
    "import matplotlib as mpl\n",
    "\n",
    "mpl.rcParams['figure.figsize'] = (15, 5)"
   ],
   "metadata": {
    "collapsed": false,
    "pycharm": {
     "name": "#%%\n"
    }
   }
  },
  {
   "cell_type": "markdown",
   "source": [
    "### Read the dataframe"
   ],
   "metadata": {
    "collapsed": false,
    "pycharm": {
     "name": "#%% md\n"
    }
   }
  },
  {
   "cell_type": "code",
   "execution_count": 4,
   "outputs": [],
   "source": [
    "df = pd.read_csv('./public.csv.gz')"
   ],
   "metadata": {
    "collapsed": false,
    "pycharm": {
     "name": "#%%\n"
    }
   }
  },
  {
   "cell_type": "code",
   "execution_count": 21,
   "outputs": [
    {
     "name": "stdout",
     "output_type": "stream",
     "text": [
      "dataset: rows=4533711 and columns=84\n"
     ]
    }
   ],
   "source": [
    "# rename the index columns\n",
    "df = df.rename(columns={'Unnamed: 0': 'IDX'})\n",
    "# find other descriptive statistics\n",
    "n_col = len(df.columns)\n",
    "n_row = len(df.index)\n",
    "print(f'dataset: rows={n_row} and columns={n_col}')"
   ],
   "metadata": {
    "collapsed": false,
    "pycharm": {
     "name": "#%%\n"
    }
   }
  },
  {
   "cell_type": "code",
   "execution_count": 22,
   "outputs": [
    {
     "name": "stdout",
     "output_type": "stream",
     "text": [
      "column names: Index(['IDX', 'AG_PPM', 'AL_PPM', 'AL2O3_PPM', 'AS_PPM', 'AU_PPM', 'B_PPM',\n",
      "       'BA_PPM', 'BE_PPM', 'BI_PPM', 'BR_PPM', 'C_PPM', 'CA_PPM', 'CAO_PPM',\n",
      "       'CD_PPM', 'CE_PPM', 'CO_PPM', 'CR_PPM', 'CS_PPM', 'CU_PPM', 'DY_PPM',\n",
      "       'ER_PPM', 'EU_PPM', 'F_PPM', 'FE_PPM', 'FE2O3_PPM', 'GA_PPM', 'GD_PPM',\n",
      "       'GE_PPM', 'HF_PPM', 'HG_PPM', 'HO_PPM', 'I_PPM', 'IN_PPM', 'IR_PPM',\n",
      "       'K_PPM', 'K2O_PPM', 'LA_PPM', 'LI_PPM', 'LU_PPM', 'MG_PPM', 'MGO_PPM',\n",
      "       'MN_PPM', 'MNO_PPM', 'MO_PPM', 'NA_PPM', 'NA2O_PPM', 'NB_PPM', 'ND_PPM',\n",
      "       'NI_PPM', 'P_PPM', 'P2O5_PPM', 'PB_PPM', 'PD_PPM', 'PR_PPM', 'PT_PPM',\n",
      "       'RB_PPM', 'RE_PPM', 'RH_PPM', 'RU_PPM', 'S_PPM', 'SB_PPM', 'SC_PPM',\n",
      "       'SE_PPM', 'SI_PPM', 'SIO2_PPM', 'SM_PPM', 'SN_PPM', 'SR_PPM', 'TA_PPM',\n",
      "       'TB_PPM', 'TE_PPM', 'TH_PPM', 'TI_PPM', 'TIO2_PPM', 'TL_PPM', 'TM_PPM',\n",
      "       'U_PPM', 'V_PPM', 'W_PPM', 'Y_PPM', 'YB_PPM', 'ZR_PPM', 'ZN_PPM'],\n",
      "      dtype='object')\n"
     ]
    }
   ],
   "source": [
    "print(f'column names: {df.columns}')"
   ],
   "metadata": {
    "collapsed": false,
    "pycharm": {
     "name": "#%%\n"
    }
   }
  },
  {
   "cell_type": "code",
   "execution_count": 37,
   "outputs": [
    {
     "name": "stdout",
     "output_type": "stream",
     "text": [
      "Column number of None:\n",
      "IDX         : 0          | 0         : 0.0\n",
      "AG_PPM      : 2373593    | 2373593   : 0.5235430754187905\n",
      "AL_PPM      : 2770304    | 2770304   : 0.6110455651010839\n",
      "AL2O3_PPM   : 4435429    | 4435429   : 0.9783219530314129\n",
      "AS_PPM      : 1308714    | 1308714   : 0.2886628636011426\n",
      "AU_PPM      : 1599001    | 1599001   : 0.3526914265157175\n",
      "B_PPM       : 4472709    | 4472709   : 0.9865447974076865\n",
      "BA_PPM      : 3206920    | 3206920   : 0.7073498950418322\n",
      "BE_PPM      : 3929712    | 3929712   : 0.8667760252031945\n",
      "BI_PPM      : 3030852    | 3030852   : 0.6685146009527294\n",
      "BR_PPM      : 4532682    | 4532682   : 0.9997730336141849\n",
      "C_PPM       : 4504094    | 4504094   : 0.9934673824599759\n",
      "CA_PPM      : 2864610    | 2864610   : 0.6318466263067937\n",
      "CAO_PPM     : 4437369    | 4437369   : 0.9787498585595773\n",
      "CD_PPM      : 3598429    | 3598429   : 0.7937049803130372\n",
      "CE_PPM      : 3824587    | 3824587   : 0.8435886186834582\n",
      "CO_PPM      : 1522860    | 1522860   : 0.33589701681470213\n",
      "CR_PPM      : 1802122    | 1802122   : 0.3974937970241156\n",
      "CS_PPM      : 3963817    | 3963817   : 0.8742985602743536\n",
      "CU_PPM      : 265583     | 265583    : 0.058579605096134274\n",
      "DY_PPM      : 4294242    | 4294242   : 0.9471803562247351\n",
      "ER_PPM      : 4275891    | 4275891   : 0.9431326787261032\n",
      "EU_PPM      : 4237858    | 4237858   : 0.934743745245341\n",
      "F_PPM       : 4493445    | 4493445   : 0.9911185340221289\n",
      "FE_PPM      : 1778931    | 1778931   : 0.3923785614036713\n",
      "FE2O3_PPM   : 4490776    | 4490776   : 0.990529833066113\n",
      "GA_PPM      : 3866701    | 3866701   : 0.852877697762385\n",
      "GD_PPM      : 4267592    | 4267592   : 0.9413021694589708\n",
      "GE_PPM      : 4257751    | 4257751   : 0.9391315414679057\n",
      "HF_PPM      : 4062330    | 4062330   : 0.8960275588805726\n",
      "HG_PPM      : 4348893    | 4348893   : 0.9592347196369596\n",
      "HO_PPM      : 4297525    | 4297525   : 0.9479044870747165\n",
      "I_PPM       : 4530429    | 4530429   : 0.9992760897198785\n",
      "IN_PPM      : 4046339    | 4046339   : 0.8925004262512543\n",
      "IR_PPM      : 4513312    | 4513312   : 0.9955005954283367\n",
      "K_PPM       : 3301652    | 3301652   : 0.7282449190078503\n",
      "K2O_PPM     : 4457327    | 4457327   : 0.9831519918230341\n",
      "LA_PPM      : 3730841    | 3730841   : 0.8229110765992804\n",
      "LI_PPM      : 4053543    | 4053543   : 0.8940894115218195\n",
      "LU_PPM      : 4281671    | 4281671   : 0.9444075725162014\n",
      "MG_PPM      : 2554390    | 2554390   : 0.563421444375259\n",
      "MGO_PPM     : 4361704    | 4361704   : 0.9620604401118642\n",
      "MN_PPM      : 1801759    | 1801759   : 0.39741373016497966\n",
      "MNO_PPM     : 4491533    | 4491533   : 0.990696804450041\n",
      "MO_PPM      : 2794700    | 2794700   : 0.6164265874026819\n",
      "NA_PPM      : 3507955    | 3507955   : 0.7737491428103821\n",
      "NA2O_PPM    : 4474952    | 4474952   : 0.9870395356033942\n",
      "NB_PPM      : 3964028    | 3964028   : 0.874345100514788\n",
      "ND_PPM      : 4257050    | 4257050   : 0.9389769219961308\n",
      "NI_PPM      : 957849     | 957849    : 0.21127261971484287\n",
      "P_PPM       : 3426096    | 3426096   : 0.755693514650581\n",
      "P2O5_PPM    : 4422754    | 4422754   : 0.9755262300574519\n",
      "PB_PPM      : 1489261    | 1489261   : 0.32848609009264157\n",
      "PD_PPM      : 3825920    | 3825920   : 0.8438826383066763\n",
      "PR_PPM      : 4289454    | 4289454   : 0.9461242677356364\n",
      "PT_PPM      : 3808302    | 3808302   : 0.8399966385153355\n",
      "RB_PPM      : 3832072    | 3832072   : 0.8452395840846494\n",
      "RE_PPM      : 4248268    | 4248268   : 0.937039877486677\n",
      "RH_PPM      : 4512985    | 4512985   : 0.9954284690841565\n",
      "RU_PPM      : 4513117    | 4513117   : 0.9954575843056604\n",
      "S_PPM       : 2626230    | 2626230   : 0.5792671831089365\n",
      "SB_PPM      : 2924930    | 2924930   : 0.64515140025467\n",
      "SC_PPM      : 3616979    | 3616979   : 0.7977965512137849\n",
      "SE_PPM      : 4023789    | 4023789   : 0.8875265759109922\n",
      "SI_PPM      : 4326863    | 4326863   : 0.9543755656238344\n",
      "SIO2_PPM    : 4453980    | 4453980   : 0.9824137445020206\n",
      "SM_PPM      : 4267184    | 4267184   : 0.9412121769561403\n",
      "SN_PPM      : 3754183    | 3754183   : 0.8280596182685663\n",
      "SR_PPM      : 3321976    | 3321976   : 0.7327277808400227\n",
      "TA_PPM      : 4041732    | 4041732   : 0.8914842609067936\n",
      "TB_PPM      : 4263777    | 4263777   : 0.9404606954435341\n",
      "TE_PPM      : 3822437    | 3822437   : 0.8431143934847193\n",
      "TH_PPM      : 3689872    | 3689872   : 0.8138745500099146\n",
      "TI_PPM      : 2915269    | 2915269   : 0.643020474838383\n",
      "TIO2_PPM    : 4458871    | 4458871   : 0.9834925516866867\n",
      "TL_PPM      : 3927079    | 3927079   : 0.8661952647621342\n",
      "TM_PPM      : 4287939    | 4287939   : 0.9457901043979203\n",
      "U_PPM       : 3528980    | 3528980   : 0.7783866241143294\n",
      "V_PPM       : 3042452    | 3042452   : 0.671073211327321\n",
      "W_PPM       : 3314397    | 3314397   : 0.7310560818720029\n",
      "Y_PPM       : 3779250    | 3779250   : 0.8335886429461428\n",
      "YB_PPM      : 4261795    | 4261795   : 0.9400235259812546\n",
      "ZR_PPM      : 3332663    | 3332663   : 0.7350850109325451\n",
      "ZN_PPM      : 0          | 0         : 0.0\n"
     ]
    }
   ],
   "source": [
    "print('Column number of None:')\n",
    "for col in df.columns:\n",
    "    print(\n",
    "        f'{col: <12}: {np.sum(pd.isna(df[col])): <10} | {np.sum(pd.isnull(df[col])): <10}: {np.sum(pd.isna(df[col])) / n_row}')"
   ],
   "metadata": {
    "collapsed": false,
    "pycharm": {
     "name": "#%%\n"
    }
   }
  },
  {
   "cell_type": "code",
   "execution_count": 53,
   "outputs": [],
   "source": [
    "# transform the dataset\n",
    "df_zn = pd.DataFrame(data={'IDX': df.IDX, 'ZN_PPM': df.ZN_PPM})"
   ],
   "metadata": {
    "collapsed": false,
    "pycharm": {
     "name": "#%%\n"
    }
   }
  },
  {
   "cell_type": "code",
   "execution_count": 59,
   "outputs": [],
   "source": [
    "df_zn_sorted = df_zn.sort_values('ZN_PPM', axis=0, ascending=True)"
   ],
   "metadata": {
    "collapsed": false,
    "pycharm": {
     "name": "#%%\n"
    }
   }
  },
  {
   "cell_type": "code",
   "execution_count": 66,
   "outputs": [
    {
     "data": {
      "text/plain": "<Figure size 1080x360 with 1 Axes>",
      "image/png": "[encoded data removed]"
     },
     "metadata": {
      "needs_background": "light"
     },
     "output_type": "display_data"
    }
   ],
   "source": [
    "nsample = 100000\n",
    "plt.scatter(range(nsample), df_zn_sorted.ZN_PPM[:nsample])\n",
    "plt.show()"
   ],
   "metadata": {
    "collapsed": false,
    "pycharm": {
     "name": "#%%\n"
    }
   }
  },
  {
   "cell_type": "markdown",
   "source": [
    "# Multiple Linear Regression\n",
    "\n",
    "$$y = \\beta_0 x_0 + \\beta_1 x_1 + \\beta_2 x_2 + \\cdots + \\beta_p x_p$$\n",
    "\n",
    "where $p$ denotes number of features and $j \\in [0, p]$.\n",
    "also $n$ denotes the number of observations and $i \\in [1, n]$.\n",
    "\n",
    "### Optimisation\n",
    "\n",
    "Using two methods:\n",
    "1. Gradient Descent\n",
    "2. Normal Equation\n",
    "\n",
    "#### Normal Equation\n",
    "$$ \\beta = (X^T X)^{-1} X^T Y $$"
   ],
   "metadata": {
    "collapsed": false,
    "pycharm": {
     "name": "#%% md\n"
    }
   },
   "execution_count": 66
  },
  {
   "cell_type": "markdown",
   "source": [
    "### Split Data"
   ],
   "metadata": {
    "collapsed": false,
    "pycharm": {
     "name": "#%% md\n"
    }
   }
  },
  {
   "cell_type": "code",
   "execution_count": 177,
   "outputs": [],
   "source": [
    "# define the split data function\n",
    "\n",
    "def split_data(X, Y, ratio: float):\n",
    "    \"\"\"\n",
    "    split_data splits the data based on the ratio given.\n",
    "    \"\"\"\n",
    "    # get indices to be able to shuffle the data\n",
    "    indices = np.array(range(len(X)))\n",
    "    random.shuffle(indices)\n",
    "\n",
    "    left_size = round(ratio * len(X))\n",
    "    left_indices = indices[0:left_size]\n",
    "    right_indices = indices[left_size:len(X)]\n",
    "\n",
    "    X_left = X[left_indices]\n",
    "    X_right = X[right_indices]\n",
    "    Y_left = Y[left_indices]\n",
    "    Y_right = Y[right_indices]\n",
    "\n",
    "    return X_left, Y_left, X_right, Y_right"
   ],
   "metadata": {
    "collapsed": false,
    "pycharm": {
     "name": "#%%\n"
    }
   }
  },
  {
   "cell_type": "code",
   "execution_count": 197,
   "outputs": [],
   "source": [
    "def normal_equation(X_, Y_):\n",
    "    \"\"\"\n",
    "    normal_equation calculates the vector beta.\n",
    "    \"\"\"\n",
    "    u, s, vh = np.linalg.svd(np.dot(X_.T, X_), full_matrices=True)\n",
    "\n",
    "    beta = np.dot(np.dot(u, X_.T), Y_)\n",
    "    return beta\n",
    "\n",
    "\n",
    "def predict(X_, b):\n",
    "    \"\"\"\n",
    "    predict the value for a given input matrix X.\n",
    "    \"\"\"\n",
    "    return np.dot(X_, b)\n",
    "\n",
    "\n",
    "def metrics(Y_hat_, Y_):\n",
    "    \"\"\"\n",
    "    metrics calculates the metrics between the predicted values Y-hat and Y.\n",
    "    \"\"\"\n",
    "    MAE = np.mean(np.abs(Y_hat_ - Y_))\n",
    "    MSE = np.square(Y_ - Y_hat_).mean()\n",
    "\n",
    "    print(f'MAE: {MAE} MSE: {MSE}')"
   ],
   "metadata": {
    "collapsed": false,
    "pycharm": {
     "name": "#%%\n"
    }
   }
  },
  {
   "cell_type": "markdown",
   "source": [
    "#### Example\n",
    "\n",
    "Apply the multiple linear regression on the dataset."
   ],
   "metadata": {
    "collapsed": false,
    "pycharm": {
     "name": "#%% md\n"
    }
   }
  },
  {
   "cell_type": "code",
   "execution_count": 198,
   "outputs": [],
   "source": [
    "# set a smaller limited sample size\n",
    "n = 1000000\n",
    "\n",
    "# get the X dataset\n",
    "X = df[:n][df.columns[2:-1]]\n",
    "X = X.fillna(-1)\n",
    "# get the expected output\n",
    "Y = df[:n][df.columns[-1]]"
   ],
   "metadata": {
    "collapsed": false,
    "pycharm": {
     "name": "#%%\n"
    }
   }
  },
  {
   "cell_type": "code",
   "execution_count": 199,
   "outputs": [],
   "source": [
    "# Add a column of ones for the bias parameter\n",
    "one = np.ones((len(X), 1))\n",
    "X = np.append(one, X, axis=1)\n",
    "\n",
    "# reshape Y to a column vector\n",
    "Y = np.array(Y).reshape((len(Y), 1))"
   ],
   "metadata": {
    "collapsed": false,
    "pycharm": {
     "name": "#%%\n"
    }
   }
  },
  {
   "cell_type": "code",
   "execution_count": 200,
   "outputs": [],
   "source": [
    "split = 0.7\n",
    "X_train, Y_train, X_test, Y_test = split_data(X, Y, ratio=split)"
   ],
   "metadata": {
    "collapsed": false,
    "pycharm": {
     "name": "#%%\n"
    }
   }
  },
  {
   "cell_type": "code",
   "execution_count": 201,
   "outputs": [
    {
     "name": "stdout",
     "output_type": "stream",
     "text": [
      "Training Set:\n",
      "X train shape: (700000, 82)\n",
      "Y train shape: (700000, 1)\n",
      "Test Set:\n",
      "X test shape: (300000, 82)\n",
      "Y test shape: (300000, 1)\n"
     ]
    }
   ],
   "source": [
    "print('Training Set:')\n",
    "print(f'X train shape: {X_train.shape}')\n",
    "print(f'Y train shape: {Y_train.shape}')\n",
    "print('Test Set:')\n",
    "print(f'X test shape: {X_test.shape}')\n",
    "print(f'Y test shape: {Y_test.shape}')"
   ],
   "metadata": {
    "collapsed": false,
    "pycharm": {
     "name": "#%%\n"
    }
   }
  },
  {
   "cell_type": "code",
   "execution_count": 202,
   "outputs": [],
   "source": [
    "# calculate beta\n",
    "beta = normal_equation(X_train, Y_train)"
   ],
   "metadata": {
    "collapsed": false,
    "pycharm": {
     "name": "#%%\n"
    }
   }
  },
  {
   "cell_type": "code",
   "execution_count": 203,
   "outputs": [],
   "source": [
    "# calculate train predictions\n",
    "Y_train_hat = predict(X_train, beta)"
   ],
   "metadata": {
    "collapsed": false,
    "pycharm": {
     "name": "#%%\n"
    }
   }
  },
  {
   "cell_type": "code",
   "execution_count": 205,
   "outputs": [
    {
     "name": "stdout",
     "output_type": "stream",
     "text": [
      "MAE: 6.51419154500685e+17 MSE: 2.5405338923535083e+36\n"
     ]
    }
   ],
   "source": [
    "# calculate metrics\n",
    "metrics(Y_train_hat, Y_train)"
   ],
   "metadata": {
    "collapsed": false,
    "pycharm": {
     "name": "#%%\n"
    }
   }
  },
  {
   "cell_type": "markdown",
   "source": [
    "# Kernel Smoothing Methods\n",
    "## Gaussian Kernel Smoothing\n",
    "\n",
    "$$ K = exp\\left( -\\gamma | x_1 - x_2 |^2 \\right) $$"
   ],
   "metadata": {
    "collapsed": false,
    "pycharm": {
     "name": "#%% md\n"
    }
   }
  },
  {
   "cell_type": "code",
   "execution_count": 209,
   "outputs": [],
   "source": [
    "def kernel(x1, x2, gamma):\n",
    "    \"\"\"kernel calculates the kernel\"\"\"\n",
    "    return np.exp(-gamma * np.square(np.abs(x1 - x2)))"
   ],
   "metadata": {
    "collapsed": false,
    "pycharm": {
     "name": "#%%\n"
    }
   }
  },
  {
   "cell_type": "code",
   "execution_count": 214,
   "outputs": [],
   "source": [
    "def kernel_matrix(x, gamma):\n",
    "    \"\"\"\n",
    "    kernel_matrix calculates the kernel matrix between\n",
    "    all combinations of x_i and x_j.\n",
    "    \"\"\"\n",
    "    n = len(x)\n",
    "    K = np.zeros((n, n))\n",
    "    for i in range(n):\n",
    "        for j in range(n):\n",
    "            K[i, j] = kernel(x[i], x[j], gamma)\n",
    "    return K"
   ],
   "metadata": {
    "collapsed": false,
    "pycharm": {
     "name": "#%%\n"
    }
   }
  },
  {
   "cell_type": "code",
   "execution_count": 222,
   "outputs": [],
   "source": [
    "def solve_a(K, y, la):\n",
    "    \"\"\"\n",
    "    solves for the matrix A.\n",
    "    :param K: denotes the kernel matrix\n",
    "    :param y: denotes output y\n",
    "    :param la: denotes lambda\n",
    "    :return:\n",
    "    \"\"\"\n",
    "    I = np.diag(np.ones(len(K)))\n",
    "    u, s, v = np.linalg.svd(np.dot(K + (la * I), y))\n",
    "    # A = np.linalg.inv(np.dot(K + (la * I), y))\n",
    "    return u"
   ],
   "metadata": {
    "collapsed": false,
    "pycharm": {
     "name": "#%%\n"
    }
   }
  },
  {
   "cell_type": "code",
   "execution_count": 223,
   "outputs": [],
   "source": [
    "def fhat(xnew, A, x, gamma):\n",
    "    n = len(xnew)\n",
    "    m = len(x)\n",
    "    v = np.zeros(n)\n",
    "    for j in range(n):\n",
    "        for i in range(m):\n",
    "            v[j] = v[j] + A[i] * kernel(xnew[j], x[i], gamma)\n",
    "    return v"
   ],
   "metadata": {
    "collapsed": false,
    "pycharm": {
     "name": "#%%\n"
    }
   }
  },
  {
   "cell_type": "markdown",
   "source": [
    "### Example"
   ],
   "metadata": {
    "collapsed": false,
    "pycharm": {
     "name": "#%% md\n"
    }
   }
  },
  {
   "cell_type": "code",
   "execution_count": 224,
   "outputs": [
    {
     "data": {
      "text/plain": "<Figure size 1080x360 with 1 Axes>",
      "image/png": "[encoded data removed]"
     },
     "metadata": {
      "needs_background": "light"
     },
     "output_type": "display_data"
    }
   ],
   "source": [
    "x_series = np.array(range(-20, 30, 1)) / 10\n",
    "\n",
    "\n",
    "def f(x):\n",
    "    return 5 + 2 * x + 4 * np.power(x, 2) - 1.5 * np.power(x, 3)\n",
    "\n",
    "y_series = f(x_series)\n",
    "plt.scatter(x_series, y_series)\n",
    "plt.show()"
   ],
   "metadata": {
    "collapsed": false,
    "pycharm": {
     "name": "#%%\n"
    }
   }
  },
  {
   "cell_type": "code",
   "execution_count": null,
   "outputs": [],
   "source": [],
   "metadata": {
    "collapsed": false,
    "pycharm": {
     "name": "#%%\n"
    }
   }
  },
  {
   "cell_type": "code",
   "execution_count": 226,
   "outputs": [
    {
     "ename": "LinAlgError",
     "evalue": "1-dimensional array given. Array must be at least two-dimensional",
     "output_type": "error",
     "traceback": [
      "\u001B[0;31m---------------------------------------------------------------------------\u001B[0m",
      "\u001B[0;31mLinAlgError\u001B[0m                               Traceback (most recent call last)",
      "\u001B[0;32m/var/folders/5n/htglbc7j5rbdw_5f9km7d_rc0000gn/T/ipykernel_56554/2572656337.py\u001B[0m in \u001B[0;36m<module>\u001B[0;34m\u001B[0m\n\u001B[1;32m      2\u001B[0m \u001B[0mla\u001B[0m \u001B[0;34m=\u001B[0m \u001B[0;36m1\u001B[0m \u001B[0;31m# lambda\u001B[0m\u001B[0;34m\u001B[0m\u001B[0;34m\u001B[0m\u001B[0m\n\u001B[1;32m      3\u001B[0m \u001B[0mK\u001B[0m \u001B[0;34m=\u001B[0m \u001B[0mkernel_matrix\u001B[0m\u001B[0;34m(\u001B[0m\u001B[0mx_series\u001B[0m\u001B[0;34m,\u001B[0m \u001B[0mgam\u001B[0m\u001B[0;34m)\u001B[0m\u001B[0;34m\u001B[0m\u001B[0;34m\u001B[0m\u001B[0m\n\u001B[0;32m----> 4\u001B[0;31m \u001B[0mA\u001B[0m \u001B[0;34m=\u001B[0m \u001B[0msolve_a\u001B[0m\u001B[0;34m(\u001B[0m\u001B[0mK\u001B[0m\u001B[0;34m,\u001B[0m \u001B[0my_series\u001B[0m\u001B[0;34m,\u001B[0m \u001B[0mla\u001B[0m\u001B[0;34m)\u001B[0m\u001B[0;34m\u001B[0m\u001B[0;34m\u001B[0m\u001B[0m\n\u001B[0m\u001B[1;32m      5\u001B[0m \u001B[0;31m# yhat = fhat(x_series, A, x_series, gam)\u001B[0m\u001B[0;34m\u001B[0m\u001B[0;34m\u001B[0m\u001B[0m\n",
      "\u001B[0;32m/var/folders/5n/htglbc7j5rbdw_5f9km7d_rc0000gn/T/ipykernel_56554/2536455154.py\u001B[0m in \u001B[0;36msolve_a\u001B[0;34m(K, y, la)\u001B[0m\n\u001B[1;32m      8\u001B[0m     \"\"\"\n\u001B[1;32m      9\u001B[0m     \u001B[0mI\u001B[0m \u001B[0;34m=\u001B[0m \u001B[0mnp\u001B[0m\u001B[0;34m.\u001B[0m\u001B[0mdiag\u001B[0m\u001B[0;34m(\u001B[0m\u001B[0mnp\u001B[0m\u001B[0;34m.\u001B[0m\u001B[0mones\u001B[0m\u001B[0;34m(\u001B[0m\u001B[0mlen\u001B[0m\u001B[0;34m(\u001B[0m\u001B[0mK\u001B[0m\u001B[0;34m)\u001B[0m\u001B[0;34m)\u001B[0m\u001B[0;34m)\u001B[0m\u001B[0;34m\u001B[0m\u001B[0;34m\u001B[0m\u001B[0m\n\u001B[0;32m---> 10\u001B[0;31m     \u001B[0mu\u001B[0m\u001B[0;34m,\u001B[0m \u001B[0ms\u001B[0m\u001B[0;34m,\u001B[0m \u001B[0mv\u001B[0m \u001B[0;34m=\u001B[0m \u001B[0mnp\u001B[0m\u001B[0;34m.\u001B[0m\u001B[0mlinalg\u001B[0m\u001B[0;34m.\u001B[0m\u001B[0msvd\u001B[0m\u001B[0;34m(\u001B[0m\u001B[0mnp\u001B[0m\u001B[0;34m.\u001B[0m\u001B[0mdot\u001B[0m\u001B[0;34m(\u001B[0m\u001B[0mK\u001B[0m \u001B[0;34m+\u001B[0m \u001B[0;34m(\u001B[0m\u001B[0mla\u001B[0m \u001B[0;34m*\u001B[0m \u001B[0mI\u001B[0m\u001B[0;34m)\u001B[0m\u001B[0;34m,\u001B[0m \u001B[0my\u001B[0m\u001B[0;34m)\u001B[0m\u001B[0;34m)\u001B[0m\u001B[0;34m\u001B[0m\u001B[0;34m\u001B[0m\u001B[0m\n\u001B[0m\u001B[1;32m     11\u001B[0m     \u001B[0;31m# A = np.linalg.inv(np.dot(K + (la * I), y))\u001B[0m\u001B[0;34m\u001B[0m\u001B[0;34m\u001B[0m\u001B[0m\n\u001B[1;32m     12\u001B[0m     \u001B[0;32mreturn\u001B[0m \u001B[0mu\u001B[0m\u001B[0;34m\u001B[0m\u001B[0;34m\u001B[0m\u001B[0m\n",
      "\u001B[0;32m<__array_function__ internals>\u001B[0m in \u001B[0;36msvd\u001B[0;34m(*args, **kwargs)\u001B[0m\n",
      "\u001B[0;32m~/opt/anaconda3/lib/python3.9/site-packages/numpy/linalg/linalg.py\u001B[0m in \u001B[0;36msvd\u001B[0;34m(a, full_matrices, compute_uv, hermitian)\u001B[0m\n\u001B[1;32m   1639\u001B[0m             \u001B[0;32mreturn\u001B[0m \u001B[0msort\u001B[0m\u001B[0;34m(\u001B[0m\u001B[0ms\u001B[0m\u001B[0;34m)\u001B[0m\u001B[0;34m[\u001B[0m\u001B[0;34m...\u001B[0m\u001B[0;34m,\u001B[0m \u001B[0;34m:\u001B[0m\u001B[0;34m:\u001B[0m\u001B[0;34m-\u001B[0m\u001B[0;36m1\u001B[0m\u001B[0;34m]\u001B[0m\u001B[0;34m\u001B[0m\u001B[0;34m\u001B[0m\u001B[0m\n\u001B[1;32m   1640\u001B[0m \u001B[0;34m\u001B[0m\u001B[0m\n\u001B[0;32m-> 1641\u001B[0;31m     \u001B[0m_assert_stacked_2d\u001B[0m\u001B[0;34m(\u001B[0m\u001B[0ma\u001B[0m\u001B[0;34m)\u001B[0m\u001B[0;34m\u001B[0m\u001B[0;34m\u001B[0m\u001B[0m\n\u001B[0m\u001B[1;32m   1642\u001B[0m     \u001B[0mt\u001B[0m\u001B[0;34m,\u001B[0m \u001B[0mresult_t\u001B[0m \u001B[0;34m=\u001B[0m \u001B[0m_commonType\u001B[0m\u001B[0;34m(\u001B[0m\u001B[0ma\u001B[0m\u001B[0;34m)\u001B[0m\u001B[0;34m\u001B[0m\u001B[0;34m\u001B[0m\u001B[0m\n\u001B[1;32m   1643\u001B[0m \u001B[0;34m\u001B[0m\u001B[0m\n",
      "\u001B[0;32m~/opt/anaconda3/lib/python3.9/site-packages/numpy/linalg/linalg.py\u001B[0m in \u001B[0;36m_assert_stacked_2d\u001B[0;34m(*arrays)\u001B[0m\n\u001B[1;32m    194\u001B[0m     \u001B[0;32mfor\u001B[0m \u001B[0ma\u001B[0m \u001B[0;32min\u001B[0m \u001B[0marrays\u001B[0m\u001B[0;34m:\u001B[0m\u001B[0;34m\u001B[0m\u001B[0;34m\u001B[0m\u001B[0m\n\u001B[1;32m    195\u001B[0m         \u001B[0;32mif\u001B[0m \u001B[0ma\u001B[0m\u001B[0;34m.\u001B[0m\u001B[0mndim\u001B[0m \u001B[0;34m<\u001B[0m \u001B[0;36m2\u001B[0m\u001B[0;34m:\u001B[0m\u001B[0;34m\u001B[0m\u001B[0;34m\u001B[0m\u001B[0m\n\u001B[0;32m--> 196\u001B[0;31m             raise LinAlgError('%d-dimensional array given. Array must be '\n\u001B[0m\u001B[1;32m    197\u001B[0m                     'at least two-dimensional' % a.ndim)\n\u001B[1;32m    198\u001B[0m \u001B[0;34m\u001B[0m\u001B[0m\n",
      "\u001B[0;31mLinAlgError\u001B[0m: 1-dimensional array given. Array must be at least two-dimensional"
     ]
    }
   ],
   "source": [
    "gam = 10 # gamma\n",
    "la = 1 # lambda\n",
    "K = kernel_matrix(x_series, gam)\n",
    "A = solve_a(K, y_series, la)\n",
    "# yhat = fhat(x_series, A, x_series, gam)"
   ],
   "metadata": {
    "collapsed": false,
    "pycharm": {
     "name": "#%%\n"
    }
   }
  },
  {
   "cell_type": "code",
   "execution_count": 227,
   "outputs": [
    {
     "data": {
      "text/plain": "array([3, 6, 9])"
     },
     "execution_count": 227,
     "metadata": {},
     "output_type": "execute_result"
    }
   ],
   "source": [
    "h = np.array([1, 2, 3])\n",
    "3 * h"
   ],
   "metadata": {
    "collapsed": false,
    "pycharm": {
     "name": "#%%\n"
    }
   }
  },
  {
   "cell_type": "code",
   "execution_count": null,
   "outputs": [],
   "source": [],
   "metadata": {
    "collapsed": false,
    "pycharm": {
     "name": "#%%\n"
    }
   }
  }
 ],
 "metadata": {
  "kernelspec": {
   "display_name": "Python 3",
   "language": "python",
   "name": "python3"
  },
  "language_info": {
   "codemirror_mode": {
    "name": "ipython",
    "version": 2
   },
   "file_extension": ".py",
   "mimetype": "text/x-python",
   "name": "python",
   "nbconvert_exporter": "python",
   "pygments_lexer": "ipython2",
   "version": "2.7.6"
  }
 },
 "nbformat": 4,
 "nbformat_minor": 0
}